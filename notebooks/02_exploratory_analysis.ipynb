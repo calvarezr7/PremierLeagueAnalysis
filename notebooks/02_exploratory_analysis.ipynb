{
 "cells": [
  {
   "cell_type": "markdown",
   "metadata": {},
   "source": [
    "## EDA \n",
    "\n",
    "To answer below questions: \n",
    "- Which teams have been the most consistent in their performance over the last 10 years?\n",
    "- Which teams have the most comebacks (wins after trailing)?\n",
    "- How does playing at home or away affect the results"
   ]
  },
  {
   "cell_type": "code",
   "execution_count": 4,
   "metadata": {},
   "outputs": [],
   "source": [
    "import pandas as pd \n",
    "datasetPremierLeague = pd.read_csv(\"../data/raw/datasetPremier.csv\")"
   ]
  },
  {
   "cell_type": "code",
   "execution_count": 5,
   "metadata": {},
   "outputs": [
    {
     "name": "stdout",
     "output_type": "stream",
     "text": [
      "    Season            Team  Wins  Draws  Losses AwayTeam\n",
      "0  2013/14         Arsenal    13      5       1        0\n",
      "1  2013/14     Aston Villa     6      3      10        0\n",
      "2  2013/14         Cardiff     5      5       9        0\n",
      "3  2013/14         Chelsea    15      3       1        0\n",
      "4  2013/14  Crystal Palace     8      3       8        0\n"
     ]
    }
   ],
   "source": [
    "# Crear columnas auxiliares para victorias, empates y derrotas\n",
    "datasetPremierLeague['Win_H'] = (datasetPremierLeague['FT Result'] == 'H').astype(int)  # Victoria local\n",
    "datasetPremierLeague['Win_A'] = (datasetPremierLeague['FT Result'] == 'A').astype(int)  # Victoria visitante\n",
    "datasetPremierLeague['Draw'] = (datasetPremierLeague['FT Result'] == 'D').astype(int)   # Empate\n",
    "\n",
    "datasetPremierLeague['Loss_H'] = (datasetPremierLeague['FT Result'] == 'A').astype(int)  # Derrota local\n",
    "datasetPremierLeague['Loss_A'] = (datasetPremierLeague['FT Result'] == 'H').astype(int)  # Derrota visitante\n",
    "\n",
    "# Crear DataFrame para equipos locales\n",
    "home_stats = datasetPremierLeague.groupby(['Season', 'HomeTeam']).agg(\n",
    "    Wins=('Win_H', 'sum'),\n",
    "    Draws=('Draw', 'sum'),\n",
    "    Losses=('Loss_H', 'sum')\n",
    ").reset_index()\n",
    "\n",
    "# Crear DataFrame para equipos visitantes\n",
    "away_stats = datasetPremierLeague.groupby(['Season', 'AwayTeam']).agg(\n",
    "    Wins=('Win_A', 'sum'),\n",
    "    Draws=('Draw', 'sum'),\n",
    "    Losses=('Loss_A', 'sum')\n",
    ").reset_index()\n",
    "\n",
    "# Unificar datos de local y visitante sumando estadísticas\n",
    "team_stats = pd.concat([home_stats, away_stats]).groupby(['Season', 'HomeTeam']).sum().reset_index()\n",
    "\n",
    "# Renombrar la columna para representar a todos los equipos\n",
    "team_stats = team_stats.rename(columns={'HomeTeam': 'Team'})\n",
    "\n",
    "print(team_stats.head())  # Ver resultados"
   ]
  },
  {
   "cell_type": "code",
   "execution_count": 7,
   "metadata": {},
   "outputs": [],
   "source": [
    "# Calcular los puntos por equipo y temporada\n",
    "team_stats['Points'] = (team_stats['Wins'] * 3) + (team_stats['Draws'] * 1)\n",
    "\n",
    "# Ordenar por temporada\n",
    "team_stats = team_stats.sort_values(by=['Team', 'Season'])\n"
   ]
  },
  {
   "cell_type": "code",
   "execution_count": 9,
   "metadata": {},
   "outputs": [
    {
     "name": "stdout",
     "output_type": "stream",
     "text": [
      "                Team  Std_Dev_Points\n",
      "6            Cardiff        0.000000\n",
      "8     Crystal Palace        3.487641\n",
      "33            Wolves        3.834058\n",
      "32          West Ham        4.020403\n",
      "12              Hull        4.041452\n",
      "27        Sunderland        4.163332\n",
      "2        Bournemouth        4.220133\n",
      "28           Swansea        4.615192\n",
      "31         West Brom        4.996666\n",
      "4           Brighton        5.080307\n",
      "17          Man City        5.258759\n",
      "29         Tottenham        5.546498\n",
      "13             Leeds        5.567764\n",
      "0            Arsenal        5.640761\n",
      "20         Newcastle        5.750362\n",
      "21           Norwich        5.916080\n",
      "26             Stoke        6.140033\n",
      "18        Man United        6.274045\n",
      "14         Leicester        6.912147\n",
      "5            Burnley        7.005100\n",
      "22     Nott'm Forest        7.071068\n",
      "9            Everton        7.394101\n",
      "30           Watford        7.536577\n",
      "25       Southampton        7.789594\n",
      "15         Liverpool        7.897065\n",
      "10            Fulham        8.018728\n",
      "3          Brentford        8.144528\n",
      "7            Chelsea        9.042325\n",
      "1        Aston Villa        9.455724\n",
      "11      Huddersfield        9.899495\n",
      "24  Sheffield United       11.930353\n",
      "16             Luton             NaN\n",
      "19     Middlesbrough             NaN\n",
      "23               QPR             NaN\n"
     ]
    }
   ],
   "source": [
    "# Calcular la desviación estándar de puntos por equipo\n",
    "team_consistency = team_stats.groupby('Team')['Points'].std().reset_index()\n",
    "team_consistency = team_consistency.rename(columns={'Points': 'Std_Dev_Points'})\n",
    "\n",
    "# Ver equipos más y menos consistentes\n",
    "print(team_consistency.sort_values(by='Std_Dev_Points'))\n"
   ]
  }
 ],
 "metadata": {
  "kernelspec": {
   "display_name": "Python 3",
   "language": "python",
   "name": "python3"
  },
  "language_info": {
   "codemirror_mode": {
    "name": "ipython",
    "version": 3
   },
   "file_extension": ".py",
   "mimetype": "text/x-python",
   "name": "python",
   "nbconvert_exporter": "python",
   "pygments_lexer": "ipython3",
   "version": "3.13.0"
  }
 },
 "nbformat": 4,
 "nbformat_minor": 2
}
